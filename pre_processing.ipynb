{
 "cells": [
  {
   "cell_type": "code",
   "execution_count": 182,
   "metadata": {},
   "outputs": [],
   "source": [
    "import re\n",
    "import os\n",
    "import pandas as pd\n",
    "import numpy as np\n",
    "import nltk"
   ]
  },
  {
   "cell_type": "code",
   "execution_count": 183,
   "metadata": {},
   "outputs": [],
   "source": [
    "def divide_into_chunks(text, chunk_size=3):\n",
    "    # Tokenize the text into sentences\n",
    "    sentences = nltk.sent_tokenize(text)\n",
    "\n",
    "    # Divide the sentences into chunks\n",
    "    chunks = [sentences[i:i + chunk_size] for i in range(0, len(sentences), chunk_size)]\n",
    "\n",
    "    return chunks"
   ]
  },
  {
   "cell_type": "code",
   "execution_count": 184,
   "metadata": {},
   "outputs": [
    {
     "data": {
      "text/plain": [
       "'In the colon, inflammation also may be caused by a decrease in healthy bacteria and an increase in disease-causing bacteria. This change in the bacteria may permit chronic inflammation to develop in the colon. What is fiber?'"
      ]
     },
     "execution_count": 184,
     "metadata": {},
     "output_type": "execute_result"
    }
   ],
   "source": [
    "file_names = [f for f in os.listdir(\"E:\\\\BSCS 4-3\\\\Thesises\\\\genective\\\\corpus\")]\n",
    "\n",
    "samples = []\n",
    "for name in file_names:\n",
    "    # open corpus file\n",
    "    with open('./corpus/' + name, 'r', encoding=\"utf8\") as file:\n",
    "        corpus = file.read()\n",
    "        \n",
    "    # split into sentences\n",
    "    document_chunks = divide_into_chunks(corpus)\n",
    "    \n",
    "    for chunk in document_chunks:\n",
    "        sample = ' '.join(chunk)\n",
    "        sample = ' '.join(filter(lambda s: 'http' not in s and 'www.' not in s, sample.split()))\n",
    "        samples.append(sample)\n",
    "    \n",
    "        \n",
    "samples = np.array(samples)\n",
    "np.random.shuffle(samples)\n",
    "\n",
    "samples[0]"
   ]
  },
  {
   "cell_type": "code",
   "execution_count": 185,
   "metadata": {},
   "outputs": [
    {
     "data": {
      "text/plain": [
       "61395"
      ]
     },
     "execution_count": 185,
     "metadata": {},
     "output_type": "execute_result"
    }
   ],
   "source": [
    "len(samples)"
   ]
  },
  {
   "cell_type": "code",
   "execution_count": 186,
   "metadata": {},
   "outputs": [
    {
     "data": {
      "text/html": [
       "<div>\n",
       "<style scoped>\n",
       "    .dataframe tbody tr th:only-of-type {\n",
       "        vertical-align: middle;\n",
       "    }\n",
       "\n",
       "    .dataframe tbody tr th {\n",
       "        vertical-align: top;\n",
       "    }\n",
       "\n",
       "    .dataframe thead th {\n",
       "        text-align: right;\n",
       "    }\n",
       "</style>\n",
       "<table border=\"1\" class=\"dataframe\">\n",
       "  <thead>\n",
       "    <tr style=\"text-align: right;\">\n",
       "      <th></th>\n",
       "      <th>corpus</th>\n",
       "    </tr>\n",
       "  </thead>\n",
       "  <tbody>\n",
       "    <tr>\n",
       "      <th>0</th>\n",
       "      <td>In the colon, inflammation also may be caused ...</td>\n",
       "    </tr>\n",
       "    <tr>\n",
       "      <th>1</th>\n",
       "      <td>The first number of the fraction is how many p...</td>\n",
       "    </tr>\n",
       "    <tr>\n",
       "      <th>2</th>\n",
       "      <td>Much of this information comes from Orphanet, ...</td>\n",
       "    </tr>\n",
       "    <tr>\n",
       "      <th>3</th>\n",
       "      <td>Signs and Symptoms Approximate number of patie...</td>\n",
       "    </tr>\n",
       "    <tr>\n",
       "      <th>4</th>\n",
       "      <td>Evaporative dry eye may result from inflammati...</td>\n",
       "    </tr>\n",
       "    <tr>\n",
       "      <th>...</th>\n",
       "      <td>...</td>\n",
       "    </tr>\n",
       "    <tr>\n",
       "      <th>61390</th>\n",
       "      <td>Your risk of infection depends on the number o...</td>\n",
       "    </tr>\n",
       "    <tr>\n",
       "      <th>61391</th>\n",
       "      <td>SALL proteins act as transcription factors, wh...</td>\n",
       "    </tr>\n",
       "    <tr>\n",
       "      <th>61392</th>\n",
       "      <td>The babys kidneys begin to produce urine at ab...</td>\n",
       "    </tr>\n",
       "    <tr>\n",
       "      <th>61393</th>\n",
       "      <td>Treatment Options for Hairy Cell Leukemia Untr...</td>\n",
       "    </tr>\n",
       "    <tr>\n",
       "      <th>61394</th>\n",
       "      <td>Clinical trials are done to find out if new ca...</td>\n",
       "    </tr>\n",
       "  </tbody>\n",
       "</table>\n",
       "<p>61395 rows × 1 columns</p>\n",
       "</div>"
      ],
      "text/plain": [
       "                                                  corpus\n",
       "0      In the colon, inflammation also may be caused ...\n",
       "1      The first number of the fraction is how many p...\n",
       "2      Much of this information comes from Orphanet, ...\n",
       "3      Signs and Symptoms Approximate number of patie...\n",
       "4      Evaporative dry eye may result from inflammati...\n",
       "...                                                  ...\n",
       "61390  Your risk of infection depends on the number o...\n",
       "61391  SALL proteins act as transcription factors, wh...\n",
       "61392  The babys kidneys begin to produce urine at ab...\n",
       "61393  Treatment Options for Hairy Cell Leukemia Untr...\n",
       "61394  Clinical trials are done to find out if new ca...\n",
       "\n",
       "[61395 rows x 1 columns]"
      ]
     },
     "execution_count": 186,
     "metadata": {},
     "output_type": "execute_result"
    }
   ],
   "source": [
    "gen_df = pd.DataFrame(samples, columns=['corpus'])\n",
    "gen_df"
   ]
  },
  {
   "cell_type": "code",
   "execution_count": 187,
   "metadata": {},
   "outputs": [],
   "source": [
    "gen_df.to_csv('./datasets/genetics.csv', index=False)"
   ]
  },
  {
   "cell_type": "code",
   "execution_count": 188,
   "metadata": {},
   "outputs": [
    {
     "data": {
      "text/html": [
       "<div>\n",
       "<style scoped>\n",
       "    .dataframe tbody tr th:only-of-type {\n",
       "        vertical-align: middle;\n",
       "    }\n",
       "\n",
       "    .dataframe tbody tr th {\n",
       "        vertical-align: top;\n",
       "    }\n",
       "\n",
       "    .dataframe thead th {\n",
       "        text-align: right;\n",
       "    }\n",
       "</style>\n",
       "<table border=\"1\" class=\"dataframe\">\n",
       "  <thead>\n",
       "    <tr style=\"text-align: right;\">\n",
       "      <th></th>\n",
       "      <th>corpus</th>\n",
       "    </tr>\n",
       "  </thead>\n",
       "  <tbody>\n",
       "    <tr>\n",
       "      <th>0</th>\n",
       "      <td>What is (are) Glaucoma ? Glaucoma is a group o...</td>\n",
       "    </tr>\n",
       "    <tr>\n",
       "      <th>1</th>\n",
       "      <td>What causes Glaucoma ? Nearly 2.7 million peop...</td>\n",
       "    </tr>\n",
       "    <tr>\n",
       "      <th>2</th>\n",
       "      <td>What are the symptoms of Glaucoma ? Symptoms o...</td>\n",
       "    </tr>\n",
       "    <tr>\n",
       "      <th>3</th>\n",
       "      <td>What are the treatments for Glaucoma ? Althoug...</td>\n",
       "    </tr>\n",
       "    <tr>\n",
       "      <th>4</th>\n",
       "      <td>What is (are) Glaucoma ? Glaucoma is a group o...</td>\n",
       "    </tr>\n",
       "    <tr>\n",
       "      <th>...</th>\n",
       "      <td>...</td>\n",
       "    </tr>\n",
       "    <tr>\n",
       "      <th>16407</th>\n",
       "      <td>What is (are) Diabetic Neuropathies: The Nerve...</td>\n",
       "    </tr>\n",
       "    <tr>\n",
       "      <th>16408</th>\n",
       "      <td>How to prevent Diabetic Neuropathies: The Nerv...</td>\n",
       "    </tr>\n",
       "    <tr>\n",
       "      <th>16409</th>\n",
       "      <td>How to diagnose Diabetic Neuropathies: The Ner...</td>\n",
       "    </tr>\n",
       "    <tr>\n",
       "      <th>16410</th>\n",
       "      <td>What are the treatments for Diabetic Neuropath...</td>\n",
       "    </tr>\n",
       "    <tr>\n",
       "      <th>16411</th>\n",
       "      <td>What to do for Diabetic Neuropathies: The Nerv...</td>\n",
       "    </tr>\n",
       "  </tbody>\n",
       "</table>\n",
       "<p>16412 rows × 1 columns</p>\n",
       "</div>"
      ],
      "text/plain": [
       "                                                  corpus\n",
       "0      What is (are) Glaucoma ? Glaucoma is a group o...\n",
       "1      What causes Glaucoma ? Nearly 2.7 million peop...\n",
       "2      What are the symptoms of Glaucoma ? Symptoms o...\n",
       "3      What are the treatments for Glaucoma ? Althoug...\n",
       "4      What is (are) Glaucoma ? Glaucoma is a group o...\n",
       "...                                                  ...\n",
       "16407  What is (are) Diabetic Neuropathies: The Nerve...\n",
       "16408  How to prevent Diabetic Neuropathies: The Nerv...\n",
       "16409  How to diagnose Diabetic Neuropathies: The Ner...\n",
       "16410  What are the treatments for Diabetic Neuropath...\n",
       "16411  What to do for Diabetic Neuropathies: The Nerv...\n",
       "\n",
       "[16412 rows x 1 columns]"
      ]
     },
     "execution_count": 188,
     "metadata": {},
     "output_type": "execute_result"
    }
   ],
   "source": [
    "med_df = pd.read_csv('./corpus/medquad.csv')\n",
    "med_df = med_df.drop(columns=['source', 'focus_area'])\n",
    "\n",
    "med_df['corpus'] = med_df['question'] + ' ' + med_df['answer']\n",
    "med_df = med_df.drop(columns=['question', 'answer'])\n",
    "\n",
    "med_df['corpus'] = med_df['corpus'].astype(str)\n",
    "med_df['corpus'] = med_df['corpus'].apply(lambda x: ' '.join(filter(lambda s: 'http' not in s and 'www.' not in s, x.split())))\n",
    "\n",
    "med_df"
   ]
  },
  {
   "cell_type": "code",
   "execution_count": 189,
   "metadata": {},
   "outputs": [],
   "source": [
    "med_df.to_csv('./datasets/general.csv', index=False)"
   ]
  },
  {
   "cell_type": "code",
   "execution_count": 190,
   "metadata": {},
   "outputs": [
    {
     "data": {
      "text/html": [
       "<div>\n",
       "<style scoped>\n",
       "    .dataframe tbody tr th:only-of-type {\n",
       "        vertical-align: middle;\n",
       "    }\n",
       "\n",
       "    .dataframe tbody tr th {\n",
       "        vertical-align: top;\n",
       "    }\n",
       "\n",
       "    .dataframe thead th {\n",
       "        text-align: right;\n",
       "    }\n",
       "</style>\n",
       "<table border=\"1\" class=\"dataframe\">\n",
       "  <thead>\n",
       "    <tr style=\"text-align: right;\">\n",
       "      <th></th>\n",
       "      <th>corpus</th>\n",
       "    </tr>\n",
       "  </thead>\n",
       "  <tbody>\n",
       "    <tr>\n",
       "      <th>15964</th>\n",
       "      <td>A more precise measurement, such as a urine al...</td>\n",
       "    </tr>\n",
       "    <tr>\n",
       "      <th>3244</th>\n",
       "      <td>What are the symptoms of Fraser like syndrome ...</td>\n",
       "    </tr>\n",
       "    <tr>\n",
       "      <th>16590</th>\n",
       "      <td>Most cases of shingles occur in adults. Only a...</td>\n",
       "    </tr>\n",
       "    <tr>\n",
       "      <th>7712</th>\n",
       "      <td>Is Bilateral perisylvian polymicrogyria inheri...</td>\n",
       "    </tr>\n",
       "    <tr>\n",
       "      <th>28794</th>\n",
       "      <td>\",GARD,Coccygodynia What are the treatments fo...</td>\n",
       "    </tr>\n",
       "    <tr>\n",
       "      <th>...</th>\n",
       "      <td>...</td>\n",
       "    </tr>\n",
       "    <tr>\n",
       "      <th>23583</th>\n",
       "      <td>In the fatal cases (4/5 patients), a transient...</td>\n",
       "    </tr>\n",
       "    <tr>\n",
       "      <th>40755</th>\n",
       "      <td>This chemical robs your blood of oxygen and tr...</td>\n",
       "    </tr>\n",
       "    <tr>\n",
       "      <th>41969</th>\n",
       "      <td>Physical Activity Being physically active and ...</td>\n",
       "    </tr>\n",
       "    <tr>\n",
       "      <th>49206</th>\n",
       "      <td>\",GARD,Faciocardiorenal syndrome What is (are)...</td>\n",
       "    </tr>\n",
       "    <tr>\n",
       "      <th>39364</th>\n",
       "      <td>\",GARD,3-Hydroxyisobutyric aciduria Is 3-Hydro...</td>\n",
       "    </tr>\n",
       "  </tbody>\n",
       "</table>\n",
       "<p>77807 rows × 1 columns</p>\n",
       "</div>"
      ],
      "text/plain": [
       "                                                  corpus\n",
       "15964  A more precise measurement, such as a urine al...\n",
       "3244   What are the symptoms of Fraser like syndrome ...\n",
       "16590  Most cases of shingles occur in adults. Only a...\n",
       "7712   Is Bilateral perisylvian polymicrogyria inheri...\n",
       "28794  \",GARD,Coccygodynia What are the treatments fo...\n",
       "...                                                  ...\n",
       "23583  In the fatal cases (4/5 patients), a transient...\n",
       "40755  This chemical robs your blood of oxygen and tr...\n",
       "41969  Physical Activity Being physically active and ...\n",
       "49206  \",GARD,Faciocardiorenal syndrome What is (are)...\n",
       "39364  \",GARD,3-Hydroxyisobutyric aciduria Is 3-Hydro...\n",
       "\n",
       "[77807 rows x 1 columns]"
      ]
     },
     "execution_count": 190,
     "metadata": {},
     "output_type": "execute_result"
    }
   ],
   "source": [
    "df = pd.concat([gen_df, med_df])\n",
    "df = df.sample(frac=1, random_state=64)\n",
    "df"
   ]
  },
  {
   "cell_type": "code",
   "execution_count": 191,
   "metadata": {},
   "outputs": [],
   "source": [
    "df.to_csv('./datasets/dataset.csv', index=False)"
   ]
  }
 ],
 "metadata": {
  "kernelspec": {
   "display_name": "Python 3.9.16 ('transformer_venv')",
   "language": "python",
   "name": "python3"
  },
  "language_info": {
   "codemirror_mode": {
    "name": "ipython",
    "version": 3
   },
   "file_extension": ".py",
   "mimetype": "text/x-python",
   "name": "python",
   "nbconvert_exporter": "python",
   "pygments_lexer": "ipython3",
   "version": "3.9.16"
  },
  "orig_nbformat": 4,
  "vscode": {
   "interpreter": {
    "hash": "c5ef8c4b80788ce44ced42bcb28e414f75089d47a94a3a967df09102d2c56b2d"
   }
  }
 },
 "nbformat": 4,
 "nbformat_minor": 2
}
